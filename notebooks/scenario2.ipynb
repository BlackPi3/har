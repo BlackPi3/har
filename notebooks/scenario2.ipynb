{
 "cells": [
  {
   "cell_type": "markdown",
   "id": "623d7513",
   "metadata": {},
   "source": [
    "# Scenario 2 — Modular experiment notebook\n",
    "\n",
    "This notebook runs scenario 2 training pipeline. It uses the modular codebase: `src.config`, `src.data`, and `src.train`.\n",
    "Use the CLI runner `run_experiment.py` for reproducible command-line runs; this notebook is mainly for quick debugging and visualization."
   ]
  },
  {
   "cell_type": "code",
   "execution_count": null,
   "id": "802ca796",
   "metadata": {},
   "outputs": [],
   "source": [
    "# Imports\n",
    "import torch\n",
    "import matplotlib.pyplot as plt\n",
    "from pathlib import Path\n",
    "\n",
    "from src.config import load_config, set_seed\n",
    "from src.data import get_dataloaders\n",
    "from src.train import Trainer\n",
    "from src.models import Regressor, FeatureExtractor, ActivityClassifier\n",
    "\n",
    "# Notebook-friendly plotting\n",
    "%matplotlib inline"
   ]
  },
  {
   "cell_type": "code",
   "execution_count": null,
   "id": "70214038",
   "metadata": {},
   "outputs": [],
   "source": [
    "# Load merged config (base + experiment) and optionally override small values here\n",
    "base_cfg = \"configs/base.yaml\"\n",
    "exp_cfg = \"configs/scenario2.yaml\"\n",
    "opts = []  # e.g. [alpha=1.0]\n",
    "\n",
    "cfg = load_config(base_cfg, exp_cfg, opts=opts)\n",
    "set_seed(getattr(cfg, 'seed', None))\n",
    "print('device:', cfg.device)\n",
    "print('Loaded config from', exp_cfg)"
   ]
  },
  {
   "cell_type": "code",
   "execution_count": null,
   "id": "aa94318a",
   "metadata": {},
   "outputs": [],
   "source": [
    "# Save merged config next to outputs for reproducibility (optional)\n",
    "import yaml, json, time\n",
    "def _ns_to_dict(ns):\n",
    "    if isinstance(ns, dict):\n",
    "        return ns\n",
    "    d = {}\n",
    "    for k, v in vars(ns).items():\n",
    "        if hasattr(v, '__dict__'):\n",
    "            d[k] = _ns_to_dict(v)\n",
    "        else:\n",
    "            d[k] = v\n",
    "    return d\n",
    "\n",
    "ts = time.strftime('%Y%m%d-%H%M%S')\n",
    "out_dir = Path('outputs') / 'scenario2' / ts\n",
    "out_dir.mkdir(parents=True, exist_ok=True)\n",
    "cfg_dict = _ns_to_dict(cfg)\n",
    "(out_dir / 'config_merged.yaml').write_text(yaml.safe_dump(cfg_dict, sort_keys=False))\n",
    "(out_dir / 'config_merged.json').write_text(json.dumps(cfg_dict, indent=2))\n",
    "print('Saved merged config to', out_dir)"
   ]
  },
  {
   "cell_type": "code",
   "execution_count": null,
   "id": "aaa82a79",
   "metadata": {},
   "outputs": [],
   "source": [
    "# Create dataloaders from factory\n",
    "dls = get_dataloaders(cfg.dataset_name, cfg)  # expected keys: 'train','val','test'\n",
    "print('Datasets sizes:', {k: len(v.dataset) for k, v in dls.items()})"
   ]
  },
  {
   "cell_type": "code",
   "execution_count": null,
   "id": "6d522864",
   "metadata": {},
   "outputs": [],
   "source": [
    "# Build models from utils.modules (constructors should accept cfg args)\n",
    "device = getattr(cfg, 'torch_device', torch.device(cfg.device))\n",
    "\n",
    "models = {\n",
    "    'pose2imu': Regressor(\n",
    "        in_ch=cfg.in_ch,\n",
    "        num_joints=cfg.num_joints,\n",
    "        window_length=cfg.sensor_window_length,\n",
    "    ).to(device),\n",
    "    'fe': FeatureExtractor().to(device),\n",
    "    'ac': ActivityClassifier(f_in=cfg.ac_fin, n_classes=cfg.ac_num_classes).to(device),\n",
    "}\n",
    "\n",
    "def count_params(m):\n",
    "    return sum(p.numel() for p in m.parameters() if p.requires_grad)\n",
    "print('param counts:', {k: count_params(m) for k, m in models.items()})"
   ]
  },
  {
   "cell_type": "code",
   "execution_count": null,
   "id": "13bb7320",
   "metadata": {},
   "outputs": [],
   "source": [
    "# Optimizer, scheduler and Trainer\n",
    "params = sum([list(m.parameters()) for m in models.values()], [])\n",
    "optimizer = torch.optim.Adam(params, lr=cfg.lr)\n",
    "scheduler = torch.optim.lr_scheduler.ReduceLROnPlateau(optimizer, mode='min', factor=0.1, patience=cfg.patience)\n",
    "\n",
    "trainer = Trainer(models=models, dataloaders=dls, optimizer=optimizer, scheduler=scheduler, cfg=cfg, device=device)\n",
    "print('Trainer instantiated')"
   ]
  },
  {
   "cell_type": "code",
   "execution_count": null,
   "id": "8b6b66b7",
   "metadata": {},
   "outputs": [],
   "source": [
    "# Run training (for quick notebook tests, override epochs in cfg or pass a small opts)\n",
    "history = trainer.fit(cfg.epochs)\n",
    "print('Training finished. History keys:', list(history.keys()))"
   ]
  },
  {
   "cell_type": "code",
   "execution_count": null,
   "id": "f09243fe",
   "metadata": {},
   "outputs": [],
   "source": [
    "# Simple visualizations\n",
    "plt.figure(figsize=(7,4))\n",
    "if 'train_loss' in history and 'val_loss' in history:\n",
    "    plt.plot(history['train_loss'], label='train_loss')\n",
    "    plt.plot(history['val_loss'], label='val_loss')\n",
    "    plt.xlabel('epoch')\n",
    "    plt.ylabel('loss')\n",
    "    plt.legend()\n",
    "    plt.grid(True)\n",
    "    plt.show()\n",
    "else:\n",
    "    print('No loss history in trainer output')"
   ]
  },
  {
   "cell_type": "markdown",
   "id": "383a4c28",
   "metadata": {},
   "source": [
    "Notes:\n",
    "- This notebook follows the modular approach: it loads a merged config, builds dataloaders, models, and delegates training to `src.train.Trainer`.\n",
    "- After you verify this notebook reproduces expected behaviour, delete or archive the old `legacy/scenario2_legacy.ipynb`.\n",
    "- For reproducible CLI runs use: `python run_experiment.py --experiment scenario2 --config configs/scenario2.yaml --seed 42`."
   ]
  }
 ],
 "metadata": {
  "kernelspec": {
   "display_name": "har",
   "language": "python",
   "name": "python3"
  },
  "language_info": {
   "codemirror_mode": {
    "name": "ipython",
    "version": 3
   },
   "file_extension": ".py",
   "mimetype": "text/x-python",
   "name": "python",
   "nbconvert_exporter": "python",
   "pygments_lexer": "ipython3",
   "version": "3.11.13"
  }
 },
 "nbformat": 4,
 "nbformat_minor": 5
}
